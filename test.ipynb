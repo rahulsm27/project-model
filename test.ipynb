{
 "cells": [
  {
   "cell_type": "code",
   "execution_count": 9,
   "metadata": {},
   "outputs": [],
   "source": [
    "from pydantic import BaseModel\n",
    "\n",
    "\n",
    "class MyModel(BaseModel):\n",
    "    name: str\n",
    "    age: int"
   ]
  },
  {
   "cell_type": "code",
   "execution_count": 12,
   "metadata": {},
   "outputs": [
    {
     "ename": "ValidationError",
     "evalue": "2 validation errors for MyModel\nname\n  field required (type=value_error.missing)\nage\n  field required (type=value_error.missing)",
     "output_type": "error",
     "traceback": [
      "\u001b[0;31m---------------------------------------------------------------------------\u001b[0m",
      "\u001b[0;31mValidationError\u001b[0m                           Traceback (most recent call last)",
      "\u001b[1;32m/Users/rahulmahajan/Desktop/Projects/1_E2E_ML_Pipleline/project-model/test.ipynb Cell 2\u001b[0m line \u001b[0;36m1\n\u001b[0;32m----> <a href='vscode-notebook-cell:/Users/rahulmahajan/Desktop/Projects/1_E2E_ML_Pipleline/project-model/test.ipynb#W1sZmlsZQ%3D%3D?line=0'>1</a>\u001b[0m x \u001b[39m=\u001b[39m MyModel(__config__ \u001b[39m=\u001b[39m {\u001b[39m\"\u001b[39m\u001b[39mallow_none\u001b[39m\u001b[39m\"\u001b[39m: \u001b[39mTrue\u001b[39;00m})\n",
      "File \u001b[0;32m~/anaconda3/lib/python3.11/site-packages/pydantic/main.py:341\u001b[0m, in \u001b[0;36mpydantic.main.BaseModel.__init__\u001b[0;34m()\u001b[0m\n",
      "\u001b[0;31mValidationError\u001b[0m: 2 validation errors for MyModel\nname\n  field required (type=value_error.missing)\nage\n  field required (type=value_error.missing)"
     ]
    }
   ],
   "source": [
    "x = MyModel(__config__ = {\"allow_none\": True})"
   ]
  },
  {
   "cell_type": "code",
   "execution_count": 3,
   "metadata": {},
   "outputs": [
    {
     "data": {
      "text/plain": [
       "'921689693404191514'"
      ]
     },
     "execution_count": 3,
     "metadata": {},
     "output_type": "execute_result"
    }
   ],
   "source": [
    "import mlflow\n",
    "experiment_name = 'Default1'\n",
    "mlflow.create_experiment(experiment_name)"
   ]
  },
  {
   "cell_type": "code",
   "execution_count": 2,
   "metadata": {},
   "outputs": [
    {
     "name": "stdout",
     "output_type": "stream",
     "text": [
      "F1 score per class: [0.66666667 0.28571429 0.66666667]\n",
      "Micro-average F1 score: 0.5454545454545454\n",
      "Macro-average F1 score: 0.5396825396825397\n",
      "Weighted-average F1 score: 0.5627705627705627\n"
     ]
    }
   ],
   "source": [
    "from sklearn.metrics import f1_score\n",
    "\n",
    "# Example data\n",
    "y_true = [0, 1, 2, 2, 2, 2, 1, 0, 2,1, 0]\n",
    "y_pred = [0, 0, 2, 2, 1 , 2, 1,0, 1,2,1]\n",
    "\n",
    "# Calculate F1 score for each class separately\n",
    "f1_per_class = f1_score(y_true, y_pred, average=None)\n",
    "\n",
    "# Calculate micro-average F1 score\n",
    "f1_micro = f1_score(y_true, y_pred, average='micro')\n",
    "\n",
    "# Calculate macro-average F1 score\n",
    "f1_macro = f1_score(y_true, y_pred, average='macro')\n",
    "\n",
    "# Calculate weighted-average F1 score\n",
    "f1_weighted = f1_score(y_true, y_pred, average='weighted')\n",
    "\n",
    "print(\"F1 score per class:\", f1_per_class)\n",
    "print(\"Micro-average F1 score:\", f1_micro)\n",
    "print(\"Macro-average F1 score:\", f1_macro)\n",
    "print(\"Weighted-average F1 score:\", f1_weighted)\n"
   ]
  },
  {
   "cell_type": "code",
   "execution_count": 4,
   "metadata": {},
   "outputs": [
    {
     "name": "stdout",
     "output_type": "stream",
     "text": [
      "Model: \"sequential\"\n",
      "_________________________________________________________________\n",
      " Layer (type)                Output Shape              Param #   \n",
      "=================================================================\n",
      " bidirectional_lstm (Bidire  (None, 20, 256)           214016    \n",
      " ctional)                                                        \n",
      "                                                                 \n",
      " output_layer (Dense)        (None, 20, 27)            6939      \n",
      "                                                                 \n",
      "=================================================================\n",
      "Total params: 220955 (863.11 KB)\n",
      "Trainable params: 220955 (863.11 KB)\n",
      "Non-trainable params: 0 (0.00 Byte)\n",
      "_________________________________________________________________\n"
     ]
    }
   ],
   "source": [
    "import tensorflow as tf\n",
    "from tensorflow.keras import layers, models\n",
    "from tensorflow.keras import backend as K\n",
    "\n",
    "def ctc_loss(y_true, y_pred):\n",
    "    \"\"\"Define the CTC loss function.\"\"\"\n",
    "    # Compute the CTC loss between y_true and y_pred\n",
    "    return K.ctc_batch_cost(y_true, y_pred, tf.ones_like(y_true[:, 0], dtype=\"int32\"))\n",
    "\n",
    "def build_ctc_model(input_shape, num_classes):\n",
    "    \"\"\"Build a simple CTC model.\"\"\"\n",
    "    model = models.Sequential()\n",
    "\n",
    "    # Define the input layer\n",
    "    model.add(layers.Input(shape=input_shape, name=\"input_layer\"))\n",
    "\n",
    "    # Add a Bidirectional LSTM layer\n",
    "    model.add(layers.Bidirectional(layers.LSTM(128, return_sequences=True), name=\"bidirectional_lstm\"))\n",
    "\n",
    "    # Add a dense layer with softmax activation for the output\n",
    "    model.add(layers.Dense(num_classes + 1, activation=\"softmax\", name=\"output_layer\"))\n",
    "\n",
    "    # Compile the model with CTC loss\n",
    "    model.compile(optimizer=\"adam\", loss=ctc_loss)\n",
    "\n",
    "    return model\n",
    "\n",
    "input_shape = (20,80)  # Adjust timesteps and features according to your input data\n",
    "num_classes = 26  # Adjust based on the number of classes in your problem\n",
    "\n",
    "    # Build the CTC model\n",
    "ctc_model = build_ctc_model(input_shape, num_classes)\n",
    "\n",
    "    # Print a summary of the model architecture\n",
    "ctc_model.summary()\n"
   ]
  },
  {
   "cell_type": "code",
   "execution_count": null,
   "metadata": {},
   "outputs": [],
   "source": []
  }
 ],
 "metadata": {
  "kernelspec": {
   "display_name": "base",
   "language": "python",
   "name": "python3"
  },
  "language_info": {
   "codemirror_mode": {
    "name": "ipython",
    "version": 3
   },
   "file_extension": ".py",
   "mimetype": "text/x-python",
   "name": "python",
   "nbconvert_exporter": "python",
   "pygments_lexer": "ipython3",
   "version": "3.11.5"
  },
  "orig_nbformat": 4
 },
 "nbformat": 4,
 "nbformat_minor": 2
}
